{
 "cells": [
  {
   "cell_type": "code",
   "execution_count": 1,
   "id": "21bad342-015c-4ca9-9c64-7ed3a102f1b6",
   "metadata": {},
   "outputs": [],
   "source": [
    "\n",
    "# Install dependencies (only needed once in Jupyter)\n",
    "# !pip install pandas matplotlib pyspark findspark seaborn\n",
    "\n",
    "import warnings\n",
    "warnings.filterwarnings(\"ignore\")\n",
    "import pandas as pd\n",
    "import matplotlib.pyplot as plt\n",
    "import seaborn as sns\n",
    "import findspark\n",
    "findspark.init()\n",
    "from pyspark.sql import SparkSession\n",
    "from pyspark.sql.functions import when, col"
   ]
  },
  {
   "cell_type": "code",
   "execution_count": 2,
   "id": "eada02bb",
   "metadata": {},
   "outputs": [
    {
     "name": "stdout",
     "output_type": "stream",
     "text": [
      "+----+-------+---+----+---+----+---+----+\n",
      "|S.NO|SECTION| DV|M-II| PP|BEEE| FL|FIMS|\n",
      "+----+-------+---+----+---+----+---+----+\n",
      "|   1|  ALPHA| 12|   0| 17|   9| 19|  15|\n",
      "|   2|  ALPHA| 19|  12| 16|  16| 18|   3|\n",
      "|   3|  ALPHA| 18|  14| 18|  18| 18|  16|\n",
      "|   4|  ALPHA| 15|   9| 19|  17| 19|  15|\n",
      "|   5|  ALPHA| 18|  17| 19|  19| 20|  18|\n",
      "|   6|  ALPHA| 17|  16| 18|  10| 15|   9|\n",
      "|   7|  ALPHA| 15|  10| 20|  20| 15|  14|\n",
      "|   8|  ALPHA| 17|  17| 19|  20| 19|  13|\n",
      "|   9|  ALPHA| 10|  18|  A|  20| 19|  15|\n",
      "|  10|  ALPHA| 18|  19| 20|  20| 20|  15|\n",
      "|  11|  ALPHA| 17|  18| 20|  18| 20|  18|\n",
      "|  12|  ALPHA| 20|  20| 20|  20| 19|  16|\n",
      "|  13|  ALPHA| 16|  18| 11|  15| 19|  15|\n",
      "|  14|  ALPHA| 17|  17| 18|  11| 15|   9|\n",
      "|  15|  ALPHA| 19|  20| 20|  20| 18|  12|\n",
      "|  16|  ALPHA| 13|  18| 17|  19| 16|   9|\n",
      "|  17|  ALPHA| 15|  17| 18|  17| 17|  13|\n",
      "|  18|  ALPHA| 11|   8| 18|  15| 19|  15|\n",
      "|  19|  ALPHA| 14|  12| 16|  16| 20|  14|\n",
      "|  20|  ALPHA| 19|  17| 20|  20| 20|  18|\n",
      "+----+-------+---+----+---+----+---+----+\n",
      "only showing top 20 rows\n",
      "root\n",
      " |-- S.NO: string (nullable = true)\n",
      " |-- SECTION: string (nullable = true)\n",
      " |-- DV: string (nullable = true)\n",
      " |-- M-II: string (nullable = true)\n",
      " |-- PP: string (nullable = true)\n",
      " |-- BEEE: string (nullable = true)\n",
      " |-- FL: string (nullable = true)\n",
      " |-- FIMS: string (nullable = true)\n",
      "\n"
     ]
    }
   ],
   "source": [
    "# Create Spark session\n",
    "spark = SparkSession.builder.appName(\"Test\").getOrCreate()\n",
    "\n",
    "# Load dataset\n",
    "data = spark.read.csv(\"MIDMARKS.csv\", header=True)\n",
    "data.show()\n",
    "data.printSchema()"
   ]
  },
  {
   "cell_type": "markdown",
   "id": "854159fb",
   "metadata": {},
   "source": [
    "1. All 20 displayed records belong to the ALPHA section only.\n",
    "\n",
    "2. Subject marks mostly range from 0 to 20, suggesting scores out of 20.\n",
    "\n",
    "3. Every column is stored as a string, so numeric columns need type conversion for analysis.\n",
    "\n",
    "4. Row 9 in the PP column contains an “A”, indicating an invalid or missing value.\n",
    "\n",
    "5. Some students achieved full marks (20) in multiple subjects, while others show very low scores (e.g., M-II = 0), reflecting wide performance variation."
   ]
  },
  {
   "cell_type": "code",
   "execution_count": 3,
   "id": "c9fba4cb",
   "metadata": {},
   "outputs": [
    {
     "name": "stdout",
     "output_type": "stream",
     "text": [
      "+-------+-----+\n",
      "|SECTION|count|\n",
      "+-------+-----+\n",
      "|   GAMA|    1|\n",
      "|   ZETA|   19|\n",
      "|   SGMA|    1|\n",
      "|   NULL|   41|\n",
      "|   BETA|   60|\n",
      "|  OMEGA|   60|\n",
      "|EPSILON|   60|\n",
      "|  SIGMA|   59|\n",
      "|  ALPHA|   60|\n",
      "|  GAMMA|   59|\n",
      "|  DELTA|   60|\n",
      "+-------+-----+\n",
      "\n"
     ]
    }
   ],
   "source": [
    "data.groupBy(\"SECTION\").count().show()"
   ]
  },
  {
   "cell_type": "code",
   "execution_count": 4,
   "id": "02e4df23",
   "metadata": {},
   "outputs": [
    {
     "name": "stdout",
     "output_type": "stream",
     "text": [
      "+-------+-----+\n",
      "|SECTION|count|\n",
      "+-------+-----+\n",
      "|   ZETA|   60|\n",
      "|   BETA|   60|\n",
      "|  OMEGA|   60|\n",
      "|EPSILON|   60|\n",
      "|  SIGMA|   60|\n",
      "|  ALPHA|   60|\n",
      "|  GAMMA|   60|\n",
      "|  DELTA|   60|\n",
      "+-------+-----+\n",
      "\n"
     ]
    }
   ],
   "source": [
    "from pyspark.sql.functions import when, col, round\n",
    "data = data.na.fill({\"SECTION\": \"ZETA\"})\n",
    "data = data.withColumn(\n",
    "    \"SECTION\",\n",
    "    when(col(\"SECTION\") == \"GAMA\", \"GAMMA\")\n",
    "    .when(col(\"SECTION\") == \"SGMA\", \"SIGMA\")\n",
    "    .otherwise(col(\"SECTION\"))\n",
    ")\n",
    "\n",
    "data.groupBy(\"SECTION\").count().show()"
   ]
  },
  {
   "cell_type": "markdown",
   "id": "d638a033",
   "metadata": {},
   "source": [
    "This PySpark code first fills missing values in the SECTION column with `\"ZETA\"`.\n",
    "It then corrects spelling errors by replacing `\"GAMA\"` with `\"GAMMA\"` and `\"SGMA\"` with `\"SIGMA\"`.\n",
    "Finally, it groups the data by SECTION and counts the number of records in each category."
   ]
  },
  {
   "cell_type": "code",
   "execution_count": 5,
   "id": "325340d2",
   "metadata": {},
   "outputs": [
    {
     "name": "stdout",
     "output_type": "stream",
     "text": [
      "+----+-----+\n",
      "|  DV|count|\n",
      "+----+-----+\n",
      "|   7|    6|\n",
      "|  15|   45|\n",
      "|  11|   31|\n",
      "|   3|    1|\n",
      "|   8|   10|\n",
      "|  16|   48|\n",
      "|NULL|    1|\n",
      "|   5|    8|\n",
      "|  18|   47|\n",
      "|  2o|    1|\n",
      "|  17|   52|\n",
      "|   6|    9|\n",
      "|  19|   37|\n",
      "|   A|    8|\n",
      "|   9|   14|\n",
      "|   1|    3|\n",
      "|  20|   52|\n",
      "|  10|   22|\n",
      "|   4|    3|\n",
      "|  12|   27|\n",
      "+----+-----+\n",
      "only showing top 20 rows\n"
     ]
    }
   ],
   "source": [
    "data.groupBy(\"DV\").count().show()"
   ]
  },
  {
   "cell_type": "code",
   "execution_count": 6,
   "id": "1a3cb7ae",
   "metadata": {
    "scrolled": true
   },
   "outputs": [
    {
     "name": "stdout",
     "output_type": "stream",
     "text": [
      "+---+-----+\n",
      "| DV|count|\n",
      "+---+-----+\n",
      "|  7|    6|\n",
      "| 15|   45|\n",
      "| 11|   31|\n",
      "|  3|    1|\n",
      "|  8|   10|\n",
      "| 16|   48|\n",
      "|  0|   10|\n",
      "|  5|    8|\n",
      "| 18|   47|\n",
      "| 17|   52|\n",
      "|  6|    9|\n",
      "| 19|   38|\n",
      "|  9|   14|\n",
      "|  1|    3|\n",
      "| 20|   53|\n",
      "| 10|   22|\n",
      "|  4|    3|\n",
      "| 12|   27|\n",
      "| 13|   25|\n",
      "| 14|   24|\n",
      "+---+-----+\n",
      "only showing top 20 rows\n"
     ]
    }
   ],
   "source": [
    "data = data.withColumn(\n",
    "    \"DV\",\n",
    "    when(col(\"DV\") == \"A\",\"0\")\n",
    "    .when(col(\"DV\") == \"2o\",\"20\")\n",
    "    .when(col(\"DV\") == \"MP\",\"0\")\n",
    "    .when(col(\"DV\") == \"I9\",\"19\")\n",
    "    .otherwise(col(\"DV\"))\n",
    ")\n",
    "data = data.na.fill({\"DV\": \"0\"})\n",
    "data.groupBy(\"DV\").count().show()"
   ]
  },
  {
   "cell_type": "markdown",
   "id": "bb160050",
   "metadata": {},
   "source": [
    "This code cleans the DV column by correcting specific erroneous entries: \"A\" and \"MP\" are replaced with \"0\", \"2o\" with \"20\", and \"I9\" with \"19\".\n",
    "It then fills any remaining missing values in DV with \"0\".\n",
    "Finally, it groups the data by DV and shows the count of records for each value."
   ]
  },
  {
   "cell_type": "code",
   "execution_count": 7,
   "id": "1f20ab98",
   "metadata": {},
   "outputs": [
    {
     "name": "stdout",
     "output_type": "stream",
     "text": [
      "+----+-----+\n",
      "|M-II|count|\n",
      "+----+-----+\n",
      "|   7|   14|\n",
      "|  15|   24|\n",
      "|  11|   24|\n",
      "|   3|   34|\n",
      "|   8|   29|\n",
      "|  16|   16|\n",
      "|   0|   24|\n",
      "|NULL|    3|\n",
      "|   5|   23|\n",
      "|  18|   23|\n",
      "|  I2|    1|\n",
      "|  17|   32|\n",
      "|   6|   18|\n",
      "|   o|    3|\n",
      "|  19|   12|\n",
      "|   A|    4|\n",
      "|  II|    1|\n",
      "|  AB|    5|\n",
      "|   9|   17|\n",
      "|   1|   16|\n",
      "+----+-----+\n",
      "only showing top 20 rows\n"
     ]
    }
   ],
   "source": [
    "data.groupBy(\"M-II\").count().show() "
   ]
  },
  {
   "cell_type": "code",
   "execution_count": 8,
   "id": "d90e9e23",
   "metadata": {},
   "outputs": [
    {
     "name": "stdout",
     "output_type": "stream",
     "text": [
      "+----+-----+\n",
      "|M-II|count|\n",
      "+----+-----+\n",
      "|   7|   14|\n",
      "|  15|   24|\n",
      "|  11|   25|\n",
      "|   3|   34|\n",
      "|   8|   29|\n",
      "|  16|   16|\n",
      "|   0|   39|\n",
      "|   5|   23|\n",
      "|  18|   23|\n",
      "|  17|   32|\n",
      "|   6|   18|\n",
      "|  19|   12|\n",
      "|   9|   17|\n",
      "|   1|   18|\n",
      "|  20|   44|\n",
      "|  10|   19|\n",
      "|   4|   22|\n",
      "|  12|   24|\n",
      "|  13|   18|\n",
      "|  14|   17|\n",
      "+----+-----+\n",
      "only showing top 20 rows\n"
     ]
    }
   ],
   "source": [
    "data = data.withColumn(\n",
    "    \"M-II\",\n",
    "    when(col(\"M-II\") == \"A\",\"0\")\n",
    "    .when(col(\"M-II\") == \"I2\",\"12\")\n",
    "    .when(col(\"M-II\") == \"o\",\"0\")\n",
    "    .when(col(\"M-II\") == \"II\",\"11\")\n",
    "    .when(col(\"M-II\") == \"AB\",\"0\")\n",
    "    .when(col(\"M-II\") == \"I\",\"1\")\n",
    "    .otherwise(col(\"M-II\"))\n",
    ")\n",
    "data = data.na.fill({\"M-II\": \"0\"})\n",
    "data.groupBy(\"M-II\").count().show()"
   ]
  },
  {
   "cell_type": "markdown",
   "id": "7ba273fe",
   "metadata": {},
   "source": [
    "This code cleans the M-II column by correcting specific incorrect entries: for example, \"A\", \"o\", and \"AB\" are replaced with \"0\", \"I2\" with \"12\", \"II\" with \"11\", and \"I\" with \"1\".\n",
    "It fills any remaining missing values in M-II with \"0\".\n",
    "Finally, it groups the data by M-II and displays the count of records for each value."
   ]
  },
  {
   "cell_type": "code",
   "execution_count": 9,
   "id": "5fce9af1",
   "metadata": {},
   "outputs": [
    {
     "name": "stdout",
     "output_type": "stream",
     "text": [
      "+---+-----+\n",
      "| PP|count|\n",
      "+---+-----+\n",
      "|  7|   10|\n",
      "| 15|   26|\n",
      "| 11|   28|\n",
      "|  3|   13|\n",
      "|  8|   12|\n",
      "| 16|   28|\n",
      "|  0|    3|\n",
      "|  5|   15|\n",
      "| 18|   35|\n",
      "| 17|   31|\n",
      "|  6|   18|\n",
      "| 19|   35|\n",
      "|  A|    8|\n",
      "| AB|    3|\n",
      "|  9|   24|\n",
      "|  1|    7|\n",
      "| 20|   70|\n",
      "| 10|   19|\n",
      "|  4|   10|\n",
      "| 12|   28|\n",
      "+---+-----+\n",
      "only showing top 20 rows\n"
     ]
    }
   ],
   "source": [
    "data.groupBy(\"PP\").count().show()"
   ]
  },
  {
   "cell_type": "code",
   "execution_count": 10,
   "id": "88a8e9af",
   "metadata": {
    "scrolled": true
   },
   "outputs": [
    {
     "name": "stdout",
     "output_type": "stream",
     "text": [
      "+---+-----+\n",
      "| PP|count|\n",
      "+---+-----+\n",
      "|  7|   10|\n",
      "| 15|   26|\n",
      "| 11|   28|\n",
      "|  3|   13|\n",
      "|  8|   12|\n",
      "| 16|   28|\n",
      "|  0|   15|\n",
      "|  5|   15|\n",
      "| 18|   35|\n",
      "| 17|   31|\n",
      "|  6|   18|\n",
      "| 19|   35|\n",
      "|  9|   24|\n",
      "|  1|    7|\n",
      "| 20|   70|\n",
      "| 10|   19|\n",
      "|  4|   10|\n",
      "| 12|   28|\n",
      "| 13|   15|\n",
      "| 14|   28|\n",
      "+---+-----+\n",
      "only showing top 20 rows\n"
     ]
    }
   ],
   "source": [
    "data = data.withColumn(\n",
    "    \"PP\",\n",
    "    when(col(\"PP\") == \"A\",\"0\")\n",
    "    .when(col(\"PP\") == \"AB\",\"0\")\n",
    "    .when(col(\"PP\") == \"MP\",\"0\")\n",
    "    .otherwise(col(\"PP\"))\n",
    ")\n",
    "data.groupBy(\"PP\").count().show()"
   ]
  },
  {
   "cell_type": "markdown",
   "id": "398a191d",
   "metadata": {},
   "source": [
    "This code cleans the PP column by replacing \"A\", \"AB\", and \"MP\" with \"0\".\n",
    "It does not fill missing values explicitly, so any remaining nulls remain unchanged.\n",
    "Finally, it groups the data by PP and displays the count of records for each value."
   ]
  },
  {
   "cell_type": "code",
   "execution_count": 11,
   "id": "dbecf527",
   "metadata": {},
   "outputs": [
    {
     "name": "stdout",
     "output_type": "stream",
     "text": [
      "+----+-----+\n",
      "|BEEE|count|\n",
      "+----+-----+\n",
      "|   7|   15|\n",
      "|  15|   28|\n",
      "|  11|   31|\n",
      "|   3|   14|\n",
      "|   8|   13|\n",
      "|  16|   23|\n",
      "|   0|    1|\n",
      "|NULL|    2|\n",
      "|   5|   10|\n",
      "|  18|   30|\n",
      "|  17|   45|\n",
      "|  Ab|    1|\n",
      "|   6|   14|\n",
      "|   o|    1|\n",
      "|  19|   41|\n",
      "|   A|   15|\n",
      "|   9|   19|\n",
      "|   1|    3|\n",
      "|  20|   76|\n",
      "|  10|   20|\n",
      "+----+-----+\n",
      "only showing top 20 rows\n"
     ]
    }
   ],
   "source": [
    "data.groupBy(\"BEEE\").count().show()"
   ]
  },
  {
   "cell_type": "code",
   "execution_count": 12,
   "id": "ffcda397",
   "metadata": {
    "scrolled": true
   },
   "outputs": [
    {
     "name": "stdout",
     "output_type": "stream",
     "text": [
      "+----+-----+\n",
      "|BEEE|count|\n",
      "+----+-----+\n",
      "|   7|   15|\n",
      "|  15|   28|\n",
      "|  11|   31|\n",
      "|   3|   14|\n",
      "|   8|   13|\n",
      "|  16|   23|\n",
      "|   0|   20|\n",
      "|   5|   10|\n",
      "|  18|   30|\n",
      "|  17|   46|\n",
      "|   6|   14|\n",
      "|  19|   41|\n",
      "|   9|   19|\n",
      "|   1|    3|\n",
      "|  20|   76|\n",
      "|  10|   20|\n",
      "|   4|   12|\n",
      "|  12|   21|\n",
      "|  13|   14|\n",
      "|  14|   21|\n",
      "+----+-----+\n",
      "only showing top 20 rows\n"
     ]
    }
   ],
   "source": [
    "data = data.withColumn(\n",
    "    \"BEEE\",\n",
    "    when(col(\"BEEE\") == \"A\",\"0\")\n",
    "    .when(col(\"BEEE\") == \"Ab\",\"0\")\n",
    "    .when(col(\"BEEE\") == \"o\",\"0\")\n",
    "    .when(col(\"BEEE\") == \"I7\",\"17\")\n",
    "    .otherwise(col(\"BEEE\"))\n",
    ")\n",
    "data = data.na.fill({\"BEEE\": \"0\"})\n",
    "data.groupBy(\"BEEE\").count().show()"
   ]
  },
  {
   "cell_type": "markdown",
   "id": "df01b85d",
   "metadata": {},
   "source": [
    "This code cleans the BEEE column by correcting specific erroneous entries: \"A\", \"Ab\", and \"o\" are replaced with \"0\", and \"I7\" is replaced with \"17\".\n",
    "It then fills any remaining missing values in BEEE with \"0\".\n",
    "Finally, it groups the data by BEEE and shows the count of records for each value."
   ]
  },
  {
   "cell_type": "code",
   "execution_count": 13,
   "id": "4c3883c2",
   "metadata": {},
   "outputs": [
    {
     "name": "stdout",
     "output_type": "stream",
     "text": [
      "+----+-----+\n",
      "|  FL|count|\n",
      "+----+-----+\n",
      "|   7|    2|\n",
      "|  15|   85|\n",
      "|  11|   10|\n",
      "|   8|    6|\n",
      "|  16|   15|\n",
      "|NULL|    1|\n",
      "|  18|   58|\n",
      "|  2o|    1|\n",
      "|  17|    9|\n",
      "|   6|    2|\n",
      "|  19|   34|\n",
      "|   A|   10|\n",
      "|  AB|    1|\n",
      "|   9|    3|\n",
      "|  20|  120|\n",
      "|  10|   55|\n",
      "|  12|    7|\n",
      "|  13|   50|\n",
      "|  14|   11|\n",
      "+----+-----+\n",
      "\n"
     ]
    }
   ],
   "source": [
    "data.groupBy(\"FL\").count().show()"
   ]
  },
  {
   "cell_type": "code",
   "execution_count": 14,
   "id": "cd9b8e3b",
   "metadata": {},
   "outputs": [
    {
     "name": "stdout",
     "output_type": "stream",
     "text": [
      "+---+-----+\n",
      "| FL|count|\n",
      "+---+-----+\n",
      "|  7|    2|\n",
      "| 15|   85|\n",
      "| 11|   10|\n",
      "|  8|    6|\n",
      "| 16|   15|\n",
      "|  0|   12|\n",
      "| 18|   58|\n",
      "| 17|    9|\n",
      "|  6|    2|\n",
      "| 19|   34|\n",
      "|  9|    3|\n",
      "| 20|  121|\n",
      "| 10|   55|\n",
      "| 12|    7|\n",
      "| 13|   50|\n",
      "| 14|   11|\n",
      "+---+-----+\n",
      "\n"
     ]
    }
   ],
   "source": [
    "data = data.withColumn(\n",
    "    \"FL\",\n",
    "    when(col(\"FL\") == \"A\",\"0\")\n",
    "    .when(col(\"FL\") == \"Ab\",\"0\")\n",
    "    .when(col(\"FL\") == \"AB\",\"0\")\n",
    "    .when(col(\"FL\") == \"2o\",\"20\")\n",
    "    .otherwise(col(\"FL\"))\n",
    ")\n",
    "data = data.na.fill({\"FL\": \"0\"})\n",
    "data.groupBy(\"FL\").count().show()"
   ]
  },
  {
   "cell_type": "markdown",
   "id": "ccd4e301",
   "metadata": {},
   "source": [
    "This code cleans the FL column by correcting specific entries: \"A\", \"Ab\", and \"AB\" are replaced with \"0\", while \"2o\" is corrected to \"20\".\n",
    "It then fills any remaining missing values in FL with \"0\".\n",
    "Finally, it groups the data by FL and displays the count of records for each value."
   ]
  },
  {
   "cell_type": "code",
   "execution_count": 15,
   "id": "68b31438",
   "metadata": {},
   "outputs": [
    {
     "name": "stdout",
     "output_type": "stream",
     "text": [
      "+----+-----+\n",
      "|FIMS|count|\n",
      "+----+-----+\n",
      "|   7|    5|\n",
      "|  15|   57|\n",
      "|  11|   22|\n",
      "|   3|    6|\n",
      "|   8|   11|\n",
      "|  16|   49|\n",
      "|   0|    1|\n",
      "|   5|    5|\n",
      "|  18|   62|\n",
      "|  17|   40|\n",
      "|   6|    5|\n",
      "|  19|   34|\n",
      "|   A|    7|\n",
      "|  Io|    1|\n",
      "|  AB|    9|\n",
      "|   9|   28|\n",
      "|   1|    3|\n",
      "|  20|   12|\n",
      "|  10|   18|\n",
      "|   4|    5|\n",
      "+----+-----+\n",
      "only showing top 20 rows\n"
     ]
    }
   ],
   "source": [
    "data.groupBy(\"FIMS\").count().show()"
   ]
  },
  {
   "cell_type": "code",
   "execution_count": 16,
   "id": "1af09adc",
   "metadata": {},
   "outputs": [
    {
     "name": "stdout",
     "output_type": "stream",
     "text": [
      "+----+-----+\n",
      "|FIMS|count|\n",
      "+----+-----+\n",
      "|   7|    5|\n",
      "|  15|   57|\n",
      "|  11|   22|\n",
      "|   3|    6|\n",
      "|   8|   11|\n",
      "|  16|   49|\n",
      "|   0|   17|\n",
      "|   5|    5|\n",
      "|  18|   62|\n",
      "|  17|   40|\n",
      "|   6|    5|\n",
      "|  19|   35|\n",
      "|   9|   28|\n",
      "|   1|    3|\n",
      "|  20|   12|\n",
      "|  10|   19|\n",
      "|   4|    5|\n",
      "|  12|   20|\n",
      "|  13|   36|\n",
      "|  14|   40|\n",
      "+----+-----+\n",
      "only showing top 20 rows\n"
     ]
    }
   ],
   "source": [
    "data = data.withColumn(\n",
    "    \"FIMS\",\n",
    "    when(col(\"FIMS\") == \"A\",\"0\")\n",
    "    .when(col(\"FIMS\") == \"AB\",\"0\")\n",
    "    .when(col(\"FIMS\") == \"Io\",\"10\")\n",
    "    .when(col(\"FIMS\") == \"I9\",\"19\")\n",
    "    .otherwise(col(\"FIMS\"))\n",
    ")\n",
    "data.groupBy(\"FIMS\").count().show()"
   ]
  },
  {
   "cell_type": "markdown",
   "id": "f2632f74",
   "metadata": {},
   "source": [
    "This code cleans the FIMS column by correcting specific entries: \"A\" and \"AB\" are replaced with \"0\", \"Io\" is corrected to \"10\", and \"I9\" is corrected to \"19\".\n",
    "It does not explicitly fill missing values, so any remaining nulls remain as-is.\n",
    "Finally, it groups the data by FIMS and displays the count of records for each value."
   ]
  },
  {
   "cell_type": "code",
   "execution_count": 17,
   "id": "0369f74a",
   "metadata": {},
   "outputs": [
    {
     "name": "stdout",
     "output_type": "stream",
     "text": [
      "+----+-------+---+----+---+----+---+----+\n",
      "|S.NO|SECTION| DV|M-II| PP|BEEE| FL|FIMS|\n",
      "+----+-------+---+----+---+----+---+----+\n",
      "|   1|  ALPHA| 12|   0| 17|   9| 19|  15|\n",
      "|   2|  ALPHA| 19|  12| 16|  16| 18|   3|\n",
      "|   3|  ALPHA| 18|  14| 18|  18| 18|  16|\n",
      "|   4|  ALPHA| 15|   9| 19|  17| 19|  15|\n",
      "|   5|  ALPHA| 18|  17| 19|  19| 20|  18|\n",
      "|   6|  ALPHA| 17|  16| 18|  10| 15|   9|\n",
      "|   7|  ALPHA| 15|  10| 20|  20| 15|  14|\n",
      "|   8|  ALPHA| 17|  17| 19|  20| 19|  13|\n",
      "|   9|  ALPHA| 10|  18|  0|  20| 19|  15|\n",
      "|  10|  ALPHA| 18|  19| 20|  20| 20|  15|\n",
      "|  11|  ALPHA| 17|  18| 20|  18| 20|  18|\n",
      "|  12|  ALPHA| 20|  20| 20|  20| 19|  16|\n",
      "|  13|  ALPHA| 16|  18| 11|  15| 19|  15|\n",
      "|  14|  ALPHA| 17|  17| 18|  11| 15|   9|\n",
      "|  15|  ALPHA| 19|  20| 20|  20| 18|  12|\n",
      "|  16|  ALPHA| 13|  18| 17|  19| 16|   9|\n",
      "|  17|  ALPHA| 15|  17| 18|  17| 17|  13|\n",
      "|  18|  ALPHA| 11|   8| 18|  15| 19|  15|\n",
      "|  19|  ALPHA| 14|  12| 16|  16| 20|  14|\n",
      "|  20|  ALPHA| 19|  17| 20|  20| 20|  18|\n",
      "+----+-------+---+----+---+----+---+----+\n",
      "only showing top 20 rows\n"
     ]
    }
   ],
   "source": [
    "data.show()"
   ]
  },
  {
   "cell_type": "markdown",
   "id": "5f5a6126",
   "metadata": {},
   "source": [
    "# CALCULATIONS"
   ]
  },
  {
   "cell_type": "code",
   "execution_count": 18,
   "id": "23b69f2f",
   "metadata": {},
   "outputs": [
    {
     "name": "stdout",
     "output_type": "stream",
     "text": [
      "+----+-------+---+----+---+----+---+----+-----+\n",
      "|S.NO|SECTION| DV|M-II| PP|BEEE| FL|FIMS|Total|\n",
      "+----+-------+---+----+---+----+---+----+-----+\n",
      "|   1|  ALPHA| 12|   0| 17|   9| 19|  15|   72|\n",
      "|   2|  ALPHA| 19|  12| 16|  16| 18|   3|   84|\n",
      "|   3|  ALPHA| 18|  14| 18|  18| 18|  16|  102|\n",
      "|   4|  ALPHA| 15|   9| 19|  17| 19|  15|   94|\n",
      "|   5|  ALPHA| 18|  17| 19|  19| 20|  18|  111|\n",
      "|   6|  ALPHA| 17|  16| 18|  10| 15|   9|   85|\n",
      "|   7|  ALPHA| 15|  10| 20|  20| 15|  14|   94|\n",
      "|   8|  ALPHA| 17|  17| 19|  20| 19|  13|  105|\n",
      "|   9|  ALPHA| 10|  18|  0|  20| 19|  15|   82|\n",
      "|  10|  ALPHA| 18|  19| 20|  20| 20|  15|  112|\n",
      "|  11|  ALPHA| 17|  18| 20|  18| 20|  18|  111|\n",
      "|  12|  ALPHA| 20|  20| 20|  20| 19|  16|  115|\n",
      "|  13|  ALPHA| 16|  18| 11|  15| 19|  15|   94|\n",
      "|  14|  ALPHA| 17|  17| 18|  11| 15|   9|   87|\n",
      "|  15|  ALPHA| 19|  20| 20|  20| 18|  12|  109|\n",
      "|  16|  ALPHA| 13|  18| 17|  19| 16|   9|   92|\n",
      "|  17|  ALPHA| 15|  17| 18|  17| 17|  13|   97|\n",
      "|  18|  ALPHA| 11|   8| 18|  15| 19|  15|   86|\n",
      "|  19|  ALPHA| 14|  12| 16|  16| 20|  14|   92|\n",
      "|  20|  ALPHA| 19|  17| 20|  20| 20|  18|  114|\n",
      "+----+-------+---+----+---+----+---+----+-----+\n",
      "only showing top 20 rows\n"
     ]
    }
   ],
   "source": [
    "data = data.withColumn(\n",
    "    \"Total\",\n",
    "    col(\"DV\").cast(\"int\") + col(\"M-II\").cast(\"int\") + col(\"PP\").cast(\"int\") + col(\"BEEE\").cast(\"int\") + col(\"FIMS\").cast(\"int\") + col(\"FL\").cast(\"int\")\n",
    ")\n",
    "\n",
    "data.show()"
   ]
  },
  {
   "cell_type": "markdown",
   "id": "479918cf",
   "metadata": {},
   "source": [
    "This code creates a new column Total by summing the integer values of all subject columns: DV, M-II, PP, BEEE, FIMS, and FL.\n",
    "It ensures that each column is cast to integer before summing to avoid data type issues.\n",
    "Finally, it displays the updated DataFrame with the newly calculated Total column."
   ]
  },
  {
   "cell_type": "code",
   "execution_count": 19,
   "id": "619764ae",
   "metadata": {},
   "outputs": [
    {
     "name": "stdout",
     "output_type": "stream",
     "text": [
      "+----+-------+---+----+---+----+---+----+-----+----------+\n",
      "|S.NO|SECTION| DV|M-II| PP|BEEE| FL|FIMS|Total|Percentage|\n",
      "+----+-------+---+----+---+----+---+----+-----+----------+\n",
      "|   1|  ALPHA| 12|   0| 17|   9| 19|  15|   72|      60.0|\n",
      "|   2|  ALPHA| 19|  12| 16|  16| 18|   3|   84|      70.0|\n",
      "|   3|  ALPHA| 18|  14| 18|  18| 18|  16|  102|      85.0|\n",
      "|   4|  ALPHA| 15|   9| 19|  17| 19|  15|   94|     78.33|\n",
      "|   5|  ALPHA| 18|  17| 19|  19| 20|  18|  111|      92.5|\n",
      "|   6|  ALPHA| 17|  16| 18|  10| 15|   9|   85|     70.83|\n",
      "|   7|  ALPHA| 15|  10| 20|  20| 15|  14|   94|     78.33|\n",
      "|   8|  ALPHA| 17|  17| 19|  20| 19|  13|  105|      87.5|\n",
      "|   9|  ALPHA| 10|  18|  0|  20| 19|  15|   82|     68.33|\n",
      "|  10|  ALPHA| 18|  19| 20|  20| 20|  15|  112|     93.33|\n",
      "|  11|  ALPHA| 17|  18| 20|  18| 20|  18|  111|      92.5|\n",
      "|  12|  ALPHA| 20|  20| 20|  20| 19|  16|  115|     95.83|\n",
      "|  13|  ALPHA| 16|  18| 11|  15| 19|  15|   94|     78.33|\n",
      "|  14|  ALPHA| 17|  17| 18|  11| 15|   9|   87|      72.5|\n",
      "|  15|  ALPHA| 19|  20| 20|  20| 18|  12|  109|     90.83|\n",
      "|  16|  ALPHA| 13|  18| 17|  19| 16|   9|   92|     76.67|\n",
      "|  17|  ALPHA| 15|  17| 18|  17| 17|  13|   97|     80.83|\n",
      "|  18|  ALPHA| 11|   8| 18|  15| 19|  15|   86|     71.67|\n",
      "|  19|  ALPHA| 14|  12| 16|  16| 20|  14|   92|     76.67|\n",
      "|  20|  ALPHA| 19|  17| 20|  20| 20|  18|  114|      95.0|\n",
      "+----+-------+---+----+---+----+---+----+-----+----------+\n",
      "only showing top 20 rows\n"
     ]
    }
   ],
   "source": [
    "data = data.withColumn(\n",
    "    \"Percentage\",\n",
    "    round(\n",
    "        (\n",
    "            col(\"DV\").cast(\"int\") + \n",
    "            col(\"M-II\").cast(\"int\") + \n",
    "            col(\"PP\").cast(\"int\") + \n",
    "            col(\"BEEE\").cast(\"int\") + \n",
    "            col(\"FIMS\").cast(\"int\") + \n",
    "            col(\"FL\").cast(\"int\") \n",
    "        )/120 *100 , 2\n",
    "    )\n",
    ")\n",
    "\n",
    "data.show()"
   ]
  },
  {
   "cell_type": "markdown",
   "id": "4689d705",
   "metadata": {},
   "source": [
    "This code calculates the Percentage for each student by summing all subject marks (DV, M-II, PP, BEEE, FIMS, FL), dividing by the total marks 120, and multiplying by 100.\n",
    "The result is rounded to 2 decimal places for clarity.\n",
    "Finally, it displays the DataFrame with the newly calculated Percentage column."
   ]
  },
  {
   "cell_type": "code",
   "execution_count": 20,
   "id": "aee108ba",
   "metadata": {},
   "outputs": [
    {
     "name": "stdout",
     "output_type": "stream",
     "text": [
      "+----+-------+---+----+---+----+---+----+-----+----------+-----+\n",
      "|S.NO|SECTION| DV|M-II| PP|BEEE| FL|FIMS|Total|Percentage|Grade|\n",
      "+----+-------+---+----+---+----+---+----+-----+----------+-----+\n",
      "|   1|  ALPHA| 12|   0| 17|   9| 19|  15|   72|      60.0|    B|\n",
      "|   2|  ALPHA| 19|  12| 16|  16| 18|   3|   84|      70.0|   B+|\n",
      "|   3|  ALPHA| 18|  14| 18|  18| 18|  16|  102|      85.0|    A|\n",
      "|   4|  ALPHA| 15|   9| 19|  17| 19|  15|   94|     78.33|   B+|\n",
      "|   5|  ALPHA| 18|  17| 19|  19| 20|  18|  111|      92.5|   A+|\n",
      "|   6|  ALPHA| 17|  16| 18|  10| 15|   9|   85|     70.83|   B+|\n",
      "|   7|  ALPHA| 15|  10| 20|  20| 15|  14|   94|     78.33|   B+|\n",
      "|   8|  ALPHA| 17|  17| 19|  20| 19|  13|  105|      87.5|    A|\n",
      "|   9|  ALPHA| 10|  18|  0|  20| 19|  15|   82|     68.33|    B|\n",
      "|  10|  ALPHA| 18|  19| 20|  20| 20|  15|  112|     93.33|   A+|\n",
      "|  11|  ALPHA| 17|  18| 20|  18| 20|  18|  111|      92.5|   A+|\n",
      "|  12|  ALPHA| 20|  20| 20|  20| 19|  16|  115|     95.83|   A+|\n",
      "|  13|  ALPHA| 16|  18| 11|  15| 19|  15|   94|     78.33|   B+|\n",
      "|  14|  ALPHA| 17|  17| 18|  11| 15|   9|   87|      72.5|   B+|\n",
      "|  15|  ALPHA| 19|  20| 20|  20| 18|  12|  109|     90.83|   A+|\n",
      "|  16|  ALPHA| 13|  18| 17|  19| 16|   9|   92|     76.67|   B+|\n",
      "|  17|  ALPHA| 15|  17| 18|  17| 17|  13|   97|     80.83|    A|\n",
      "|  18|  ALPHA| 11|   8| 18|  15| 19|  15|   86|     71.67|   B+|\n",
      "|  19|  ALPHA| 14|  12| 16|  16| 20|  14|   92|     76.67|   B+|\n",
      "|  20|  ALPHA| 19|  17| 20|  20| 20|  18|  114|      95.0|   A+|\n",
      "+----+-------+---+----+---+----+---+----+-----+----------+-----+\n",
      "only showing top 20 rows\n"
     ]
    }
   ],
   "source": [
    "data = data.withColumn(\n",
    "    \"Grade\",\n",
    "    when(col(\"Percentage\") >= 90,\"A+\")\n",
    "    .when(col(\"Percentage\") >= 80,\"A\")\n",
    "    .when(col(\"Percentage\") >= 70,\"B+\")\n",
    "    .when(col(\"Percentage\") >= 60,\"B\")\n",
    "    .when(col(\"Percentage\") >= 50,\"C\")\n",
    "    .otherwise(\"F\")\n",
    ")\n",
    "data.show()"
   ]
  },
  {
   "cell_type": "markdown",
   "id": "319216a4",
   "metadata": {},
   "source": [
    "This code assigns a Grade to each student based on their Percentage using standard thresholds: A+ for ≥90, A for ≥80, B+ for ≥70, B for ≥60, C for ≥50, and F for anything below 50.\n",
    "It uses PySpark’s when and otherwise functions to apply these conditions.\n",
    "Finally, it displays the DataFrame with the newly assigned Grade column."
   ]
  },
  {
   "cell_type": "markdown",
   "id": "dfdfef42",
   "metadata": {},
   "source": [
    "# SKILLS CHECK"
   ]
  },
  {
   "cell_type": "code",
   "execution_count": 21,
   "id": "cf25f720",
   "metadata": {},
   "outputs": [
    {
     "name": "stdout",
     "output_type": "stream",
     "text": [
      "+----+-------+---+----+---+----+---+----+-----+----------+-----+------------------+\n",
      "|S.NO|SECTION| DV|M-II| PP|BEEE| FL|FIMS|Total|Percentage|Grade|Programming Skills|\n",
      "+----+-------+---+----+---+----+---+----+-----+----------+-----+------------------+\n",
      "|   1|  ALPHA| 12|   0| 17|   9| 19|  15|   72|      60.0|    B|              Good|\n",
      "|   2|  ALPHA| 19|  12| 16|  16| 18|   3|   84|      70.0|   B+|              Good|\n",
      "|   3|  ALPHA| 18|  14| 18|  18| 18|  16|  102|      85.0|    A|         Excellent|\n",
      "|   4|  ALPHA| 15|   9| 19|  17| 19|  15|   94|     78.33|   B+|         Excellent|\n",
      "|   5|  ALPHA| 18|  17| 19|  19| 20|  18|  111|      92.5|   A+|         Excellent|\n",
      "|   6|  ALPHA| 17|  16| 18|  10| 15|   9|   85|     70.83|   B+|         Excellent|\n",
      "|   7|  ALPHA| 15|  10| 20|  20| 15|  14|   94|     78.33|   B+|         Excellent|\n",
      "|   8|  ALPHA| 17|  17| 19|  20| 19|  13|  105|      87.5|    A|         Excellent|\n",
      "|   9|  ALPHA| 10|  18|  0|  20| 19|  15|   82|     68.33|    B|              Poor|\n",
      "|  10|  ALPHA| 18|  19| 20|  20| 20|  15|  112|     93.33|   A+|         Excellent|\n",
      "|  11|  ALPHA| 17|  18| 20|  18| 20|  18|  111|      92.5|   A+|         Excellent|\n",
      "|  12|  ALPHA| 20|  20| 20|  20| 19|  16|  115|     95.83|   A+|         Excellent|\n",
      "|  13|  ALPHA| 16|  18| 11|  15| 19|  15|   94|     78.33|   B+|              Poor|\n",
      "|  14|  ALPHA| 17|  17| 18|  11| 15|   9|   87|      72.5|   B+|         Excellent|\n",
      "|  15|  ALPHA| 19|  20| 20|  20| 18|  12|  109|     90.83|   A+|         Excellent|\n",
      "|  16|  ALPHA| 13|  18| 17|  19| 16|   9|   92|     76.67|   B+|              Good|\n",
      "|  17|  ALPHA| 15|  17| 18|  17| 17|  13|   97|     80.83|    A|         Excellent|\n",
      "|  18|  ALPHA| 11|   8| 18|  15| 19|  15|   86|     71.67|   B+|         Excellent|\n",
      "|  19|  ALPHA| 14|  12| 16|  16| 20|  14|   92|     76.67|   B+|              Good|\n",
      "|  20|  ALPHA| 19|  17| 20|  20| 20|  18|  114|      95.0|   A+|         Excellent|\n",
      "+----+-------+---+----+---+----+---+----+-----+----------+-----+------------------+\n",
      "only showing top 20 rows\n"
     ]
    }
   ],
   "source": [
    "data = data.withColumn(\n",
    "    \"Programming Skills\",\n",
    "    when(col(\"PP\") >= 18,\"Excellent\")\n",
    "    .when(col(\"PP\") >= 15,\"Good\")\n",
    "    .otherwise(\"Poor\")\n",
    ")\n",
    "data.show()"
   ]
  },
  {
   "cell_type": "markdown",
   "id": "01fdaf56",
   "metadata": {},
   "source": [
    "This code evaluates Programming Skills based on the PP marks: students scoring ≥18 are labeled \"Excellent\", those with ≥15 as \"Good\", and the rest as \"Poor\".\n",
    "It uses PySpark’s when and otherwise functions to apply these conditions.\n",
    "Finally, it displays the DataFrame with the newly created Programming Skills column."
   ]
  },
  {
   "cell_type": "code",
   "execution_count": 22,
   "id": "107ca832",
   "metadata": {},
   "outputs": [
    {
     "name": "stdout",
     "output_type": "stream",
     "text": [
      "+----+-------+---+----+---+----+---+----+-----+----------+-----+------------------+---------+\n",
      "|S.NO|SECTION| DV|M-II| PP|BEEE| FL|FIMS|Total|Percentage|Grade|Programming Skills|DV Skills|\n",
      "+----+-------+---+----+---+----+---+----+-----+----------+-----+------------------+---------+\n",
      "|   1|  ALPHA| 12|   0| 17|   9| 19|  15|   72|      60.0|    B|              Good|     Poor|\n",
      "|   2|  ALPHA| 19|  12| 16|  16| 18|   3|   84|      70.0|   B+|              Good|Excellent|\n",
      "|   3|  ALPHA| 18|  14| 18|  18| 18|  16|  102|      85.0|    A|         Excellent|Excellent|\n",
      "|   4|  ALPHA| 15|   9| 19|  17| 19|  15|   94|     78.33|   B+|         Excellent|     Good|\n",
      "|   5|  ALPHA| 18|  17| 19|  19| 20|  18|  111|      92.5|   A+|         Excellent|Excellent|\n",
      "|   6|  ALPHA| 17|  16| 18|  10| 15|   9|   85|     70.83|   B+|         Excellent|     Good|\n",
      "|   7|  ALPHA| 15|  10| 20|  20| 15|  14|   94|     78.33|   B+|         Excellent|     Good|\n",
      "|   8|  ALPHA| 17|  17| 19|  20| 19|  13|  105|      87.5|    A|         Excellent|     Good|\n",
      "|   9|  ALPHA| 10|  18|  0|  20| 19|  15|   82|     68.33|    B|              Poor|     Poor|\n",
      "|  10|  ALPHA| 18|  19| 20|  20| 20|  15|  112|     93.33|   A+|         Excellent|Excellent|\n",
      "|  11|  ALPHA| 17|  18| 20|  18| 20|  18|  111|      92.5|   A+|         Excellent|     Good|\n",
      "|  12|  ALPHA| 20|  20| 20|  20| 19|  16|  115|     95.83|   A+|         Excellent|Excellent|\n",
      "|  13|  ALPHA| 16|  18| 11|  15| 19|  15|   94|     78.33|   B+|              Poor|     Good|\n",
      "|  14|  ALPHA| 17|  17| 18|  11| 15|   9|   87|      72.5|   B+|         Excellent|     Good|\n",
      "|  15|  ALPHA| 19|  20| 20|  20| 18|  12|  109|     90.83|   A+|         Excellent|Excellent|\n",
      "|  16|  ALPHA| 13|  18| 17|  19| 16|   9|   92|     76.67|   B+|              Good|     Poor|\n",
      "|  17|  ALPHA| 15|  17| 18|  17| 17|  13|   97|     80.83|    A|         Excellent|     Good|\n",
      "|  18|  ALPHA| 11|   8| 18|  15| 19|  15|   86|     71.67|   B+|         Excellent|     Poor|\n",
      "|  19|  ALPHA| 14|  12| 16|  16| 20|  14|   92|     76.67|   B+|              Good|     Poor|\n",
      "|  20|  ALPHA| 19|  17| 20|  20| 20|  18|  114|      95.0|   A+|         Excellent|Excellent|\n",
      "+----+-------+---+----+---+----+---+----+-----+----------+-----+------------------+---------+\n",
      "only showing top 20 rows\n"
     ]
    }
   ],
   "source": [
    "data = data.withColumn(\n",
    "    \"DV Skills\",\n",
    "    when(col(\"DV\") >= 18,\"Excellent\")\n",
    "    .when(col(\"DV\") >= 15,\"Good\")\n",
    "    .otherwise(\"Poor\")\n",
    ")\n",
    "data.show()"
   ]
  },
  {
   "cell_type": "markdown",
   "id": "2575148e",
   "metadata": {},
   "source": [
    "This code evaluates DV Skills based on the DV marks: students scoring ≥18 are labeled \"Excellent\", those with ≥15 as \"Good\", and the rest as \"Poor\".\n",
    "It uses PySpark’s when and otherwise functions to apply these conditions.\n",
    "Finally, it displays the DataFrame with the newly created DV Skills column."
   ]
  },
  {
   "cell_type": "code",
   "execution_count": 23,
   "id": "e1d8dfca",
   "metadata": {},
   "outputs": [],
   "source": [
    "df = data.toPandas()"
   ]
  },
  {
   "cell_type": "markdown",
   "id": "79fbb70e",
   "metadata": {},
   "source": [
    "This PySpark code converts the `data` DataFrame from a PySpark DataFrame to a Pandas DataFrame and stores it in `df`. This allows using Pandas functions for further analysis.\n"
   ]
  },
  {
   "cell_type": "code",
   "execution_count": 24,
   "id": "36628216",
   "metadata": {},
   "outputs": [
    {
     "name": "stdout",
     "output_type": "stream",
     "text": [
      "<class 'pandas.core.frame.DataFrame'>\n",
      "RangeIndex: 480 entries, 0 to 479\n",
      "Data columns (total 13 columns):\n",
      " #   Column              Non-Null Count  Dtype  \n",
      "---  ------              --------------  -----  \n",
      " 0   S.NO                480 non-null    object \n",
      " 1   SECTION             480 non-null    object \n",
      " 2   DV                  480 non-null    object \n",
      " 3   M-II                480 non-null    object \n",
      " 4   PP                  480 non-null    object \n",
      " 5   BEEE                480 non-null    object \n",
      " 6   FL                  480 non-null    object \n",
      " 7   FIMS                480 non-null    object \n",
      " 8   Total               480 non-null    int32  \n",
      " 9   Percentage          480 non-null    float64\n",
      " 10  Grade               480 non-null    object \n",
      " 11  Programming Skills  480 non-null    object \n",
      " 12  DV Skills           480 non-null    object \n",
      "dtypes: float64(1), int32(1), object(11)\n",
      "memory usage: 47.0+ KB\n"
     ]
    }
   ],
   "source": [
    "df.info()"
   ]
  },
  {
   "cell_type": "code",
   "execution_count": 25,
   "id": "7bb4c171",
   "metadata": {},
   "outputs": [],
   "source": [
    "df['DV'] = pd.to_numeric(df['DV'], errors='coerce')\n",
    "df['M-II'] = pd.to_numeric(df['M-II'], errors='coerce')\n",
    "df['PP'] = pd.to_numeric(df['PP'], errors='coerce')\n",
    "df['BEEE'] = pd.to_numeric(df['BEEE'], errors='coerce')\n",
    "df['FL'] = pd.to_numeric(df['FL'], errors='coerce')\n",
    "df['FIMS'] = pd.to_numeric(df['FIMS'], errors='coerce')"
   ]
  },
  {
   "cell_type": "markdown",
   "id": "2f07604d",
   "metadata": {},
   "source": [
    "This code converts the columns DV, M-II, PP, BEEE, FL, and FIMS to numeric types using pd.to_numeric.\n",
    "Any non-numeric or invalid entries in these columns are coerced to NaN.\n",
    "This ensures that all subject columns are in a consistent numeric format for further calculations."
   ]
  },
  {
   "cell_type": "code",
   "execution_count": 26,
   "id": "ce662195",
   "metadata": {},
   "outputs": [
    {
     "data": {
      "text/html": [
       "<div>\n",
       "<style scoped>\n",
       "    .dataframe tbody tr th:only-of-type {\n",
       "        vertical-align: middle;\n",
       "    }\n",
       "\n",
       "    .dataframe tbody tr th {\n",
       "        vertical-align: top;\n",
       "    }\n",
       "\n",
       "    .dataframe thead th {\n",
       "        text-align: right;\n",
       "    }\n",
       "</style>\n",
       "<table border=\"1\" class=\"dataframe\">\n",
       "  <thead>\n",
       "    <tr style=\"text-align: right;\">\n",
       "      <th></th>\n",
       "      <th>S.NO</th>\n",
       "      <th>SECTION</th>\n",
       "      <th>DV</th>\n",
       "      <th>M-II</th>\n",
       "      <th>PP</th>\n",
       "      <th>BEEE</th>\n",
       "      <th>FL</th>\n",
       "      <th>FIMS</th>\n",
       "      <th>Total</th>\n",
       "      <th>Percentage</th>\n",
       "      <th>Grade</th>\n",
       "      <th>Programming Skills</th>\n",
       "      <th>DV Skills</th>\n",
       "      <th>Backlogs</th>\n",
       "    </tr>\n",
       "  </thead>\n",
       "  <tbody>\n",
       "    <tr>\n",
       "      <th>0</th>\n",
       "      <td>1</td>\n",
       "      <td>ALPHA</td>\n",
       "      <td>12</td>\n",
       "      <td>0</td>\n",
       "      <td>17</td>\n",
       "      <td>9</td>\n",
       "      <td>19</td>\n",
       "      <td>15</td>\n",
       "      <td>72</td>\n",
       "      <td>60.00</td>\n",
       "      <td>B</td>\n",
       "      <td>Good</td>\n",
       "      <td>Poor</td>\n",
       "      <td>2</td>\n",
       "    </tr>\n",
       "    <tr>\n",
       "      <th>1</th>\n",
       "      <td>2</td>\n",
       "      <td>ALPHA</td>\n",
       "      <td>19</td>\n",
       "      <td>12</td>\n",
       "      <td>16</td>\n",
       "      <td>16</td>\n",
       "      <td>18</td>\n",
       "      <td>3</td>\n",
       "      <td>84</td>\n",
       "      <td>70.00</td>\n",
       "      <td>B+</td>\n",
       "      <td>Good</td>\n",
       "      <td>Excellent</td>\n",
       "      <td>1</td>\n",
       "    </tr>\n",
       "    <tr>\n",
       "      <th>2</th>\n",
       "      <td>3</td>\n",
       "      <td>ALPHA</td>\n",
       "      <td>18</td>\n",
       "      <td>14</td>\n",
       "      <td>18</td>\n",
       "      <td>18</td>\n",
       "      <td>18</td>\n",
       "      <td>16</td>\n",
       "      <td>102</td>\n",
       "      <td>85.00</td>\n",
       "      <td>A</td>\n",
       "      <td>Excellent</td>\n",
       "      <td>Excellent</td>\n",
       "      <td>0</td>\n",
       "    </tr>\n",
       "    <tr>\n",
       "      <th>3</th>\n",
       "      <td>4</td>\n",
       "      <td>ALPHA</td>\n",
       "      <td>15</td>\n",
       "      <td>9</td>\n",
       "      <td>19</td>\n",
       "      <td>17</td>\n",
       "      <td>19</td>\n",
       "      <td>15</td>\n",
       "      <td>94</td>\n",
       "      <td>78.33</td>\n",
       "      <td>B+</td>\n",
       "      <td>Excellent</td>\n",
       "      <td>Good</td>\n",
       "      <td>1</td>\n",
       "    </tr>\n",
       "    <tr>\n",
       "      <th>4</th>\n",
       "      <td>5</td>\n",
       "      <td>ALPHA</td>\n",
       "      <td>18</td>\n",
       "      <td>17</td>\n",
       "      <td>19</td>\n",
       "      <td>19</td>\n",
       "      <td>20</td>\n",
       "      <td>18</td>\n",
       "      <td>111</td>\n",
       "      <td>92.50</td>\n",
       "      <td>A+</td>\n",
       "      <td>Excellent</td>\n",
       "      <td>Excellent</td>\n",
       "      <td>0</td>\n",
       "    </tr>\n",
       "    <tr>\n",
       "      <th>...</th>\n",
       "      <td>...</td>\n",
       "      <td>...</td>\n",
       "      <td>...</td>\n",
       "      <td>...</td>\n",
       "      <td>...</td>\n",
       "      <td>...</td>\n",
       "      <td>...</td>\n",
       "      <td>...</td>\n",
       "      <td>...</td>\n",
       "      <td>...</td>\n",
       "      <td>...</td>\n",
       "      <td>...</td>\n",
       "      <td>...</td>\n",
       "      <td>...</td>\n",
       "    </tr>\n",
       "    <tr>\n",
       "      <th>475</th>\n",
       "      <td>476</td>\n",
       "      <td>ZETA</td>\n",
       "      <td>18</td>\n",
       "      <td>2</td>\n",
       "      <td>12</td>\n",
       "      <td>3</td>\n",
       "      <td>17</td>\n",
       "      <td>15</td>\n",
       "      <td>67</td>\n",
       "      <td>55.83</td>\n",
       "      <td>C</td>\n",
       "      <td>Poor</td>\n",
       "      <td>Excellent</td>\n",
       "      <td>2</td>\n",
       "    </tr>\n",
       "    <tr>\n",
       "      <th>476</th>\n",
       "      <td>477</td>\n",
       "      <td>ZETA</td>\n",
       "      <td>20</td>\n",
       "      <td>6</td>\n",
       "      <td>16</td>\n",
       "      <td>11</td>\n",
       "      <td>20</td>\n",
       "      <td>14</td>\n",
       "      <td>87</td>\n",
       "      <td>72.50</td>\n",
       "      <td>B+</td>\n",
       "      <td>Good</td>\n",
       "      <td>Excellent</td>\n",
       "      <td>1</td>\n",
       "    </tr>\n",
       "    <tr>\n",
       "      <th>477</th>\n",
       "      <td>478</td>\n",
       "      <td>ZETA</td>\n",
       "      <td>20</td>\n",
       "      <td>0</td>\n",
       "      <td>18</td>\n",
       "      <td>13</td>\n",
       "      <td>20</td>\n",
       "      <td>18</td>\n",
       "      <td>89</td>\n",
       "      <td>74.17</td>\n",
       "      <td>B+</td>\n",
       "      <td>Excellent</td>\n",
       "      <td>Excellent</td>\n",
       "      <td>1</td>\n",
       "    </tr>\n",
       "    <tr>\n",
       "      <th>478</th>\n",
       "      <td>479</td>\n",
       "      <td>ZETA</td>\n",
       "      <td>20</td>\n",
       "      <td>20</td>\n",
       "      <td>5</td>\n",
       "      <td>19</td>\n",
       "      <td>18</td>\n",
       "      <td>14</td>\n",
       "      <td>96</td>\n",
       "      <td>80.00</td>\n",
       "      <td>A</td>\n",
       "      <td>Poor</td>\n",
       "      <td>Excellent</td>\n",
       "      <td>1</td>\n",
       "    </tr>\n",
       "    <tr>\n",
       "      <th>479</th>\n",
       "      <td>480</td>\n",
       "      <td>ZETA</td>\n",
       "      <td>20</td>\n",
       "      <td>16</td>\n",
       "      <td>18</td>\n",
       "      <td>19</td>\n",
       "      <td>20</td>\n",
       "      <td>19</td>\n",
       "      <td>112</td>\n",
       "      <td>93.33</td>\n",
       "      <td>A+</td>\n",
       "      <td>Excellent</td>\n",
       "      <td>Excellent</td>\n",
       "      <td>0</td>\n",
       "    </tr>\n",
       "  </tbody>\n",
       "</table>\n",
       "<p>480 rows × 14 columns</p>\n",
       "</div>"
      ],
      "text/plain": [
       "    S.NO SECTION  DV  M-II  PP  BEEE  FL  FIMS  Total  Percentage Grade  \\\n",
       "0      1   ALPHA  12     0  17     9  19    15     72       60.00     B   \n",
       "1      2   ALPHA  19    12  16    16  18     3     84       70.00    B+   \n",
       "2      3   ALPHA  18    14  18    18  18    16    102       85.00     A   \n",
       "3      4   ALPHA  15     9  19    17  19    15     94       78.33    B+   \n",
       "4      5   ALPHA  18    17  19    19  20    18    111       92.50    A+   \n",
       "..   ...     ...  ..   ...  ..   ...  ..   ...    ...         ...   ...   \n",
       "475  476    ZETA  18     2  12     3  17    15     67       55.83     C   \n",
       "476  477    ZETA  20     6  16    11  20    14     87       72.50    B+   \n",
       "477  478    ZETA  20     0  18    13  20    18     89       74.17    B+   \n",
       "478  479    ZETA  20    20   5    19  18    14     96       80.00     A   \n",
       "479  480    ZETA  20    16  18    19  20    19    112       93.33    A+   \n",
       "\n",
       "    Programming Skills  DV Skills  Backlogs  \n",
       "0                 Good       Poor         2  \n",
       "1                 Good  Excellent         1  \n",
       "2            Excellent  Excellent         0  \n",
       "3            Excellent       Good         1  \n",
       "4            Excellent  Excellent         0  \n",
       "..                 ...        ...       ...  \n",
       "475               Poor  Excellent         2  \n",
       "476               Good  Excellent         1  \n",
       "477          Excellent  Excellent         1  \n",
       "478               Poor  Excellent         1  \n",
       "479          Excellent  Excellent         0  \n",
       "\n",
       "[480 rows x 14 columns]"
      ]
     },
     "execution_count": 26,
     "metadata": {},
     "output_type": "execute_result"
    }
   ],
   "source": [
    "df['Backlogs']=0\n",
    "for i in range(len(df)):\n",
    "    count=0\n",
    "    if df['DV'][i]<10:\n",
    "        count+=1\n",
    "    if df['M-II'][i]<10:\n",
    "        count+=1\n",
    "    if df['PP'][i]<10:\n",
    "        count+=1\n",
    "    if df['BEEE'][i]<10:\n",
    "        count+=1\n",
    "    if df['FL'][i]<10:\n",
    "        count+=1\n",
    "    if df['FIMS'][i]<10:\n",
    "        count+=1\n",
    "    df['Backlogs'][i]=count\n",
    "df"
   ]
  },
  {
   "cell_type": "markdown",
   "id": "cb5da66f",
   "metadata": {},
   "source": [
    "This code creates a new column Backlogs to count the number of subjects in which a student scored less than 10.\n",
    "It iterates through each row and increments the count for every subject (DV, M-II, PP, BEEE, FL, FIMS) with marks below 10.\n",
    "Finally, it assigns this count to the Backlogs column for each student, showing how many subjects they are failing."
   ]
  },
  {
   "cell_type": "code",
   "execution_count": 27,
   "id": "8c5c181b",
   "metadata": {},
   "outputs": [
    {
     "data": {
      "image/png": "[encoded data removed]",
      "text/plain": [
       "<Figure size 800x800 with 1 Axes>"
      ]
     },
     "metadata": {},
     "output_type": "display_data"
    }
   ],
   "source": [
    "b = df.loc[(df['Backlogs']<1)]\n",
    "a = b['SECTION'].value_counts()\n",
    "a.plot(kind = 'pie', figsize = (8, 8), autopct = '%1.1f%%', startangle = 90)\n",
    "plt.title(\"Pie Chart of Zero Backlog percentage in each Section\")\n",
    "plt.show()"
   ]
  },
  {
   "cell_type": "markdown",
   "id": "aa160ddd",
   "metadata": {},
   "source": [
    "This code filters the students who have zero backlogs `(Backlogs < 1)` and counts how many are in each SECTION.\n",
    "It then plots a pie chart showing the percentage distribution of students with zero backlogs across all sections.\n",
    "The chart includes percentages on the slices and starts at a 90° angle, with a title \"Pie Chart of Zero Backlog percentage in each Section\".\n",
    "\n",
    "The `Zero Backlog Percentage` is very less in `SIGMA`, `GAMMA` and `OMEGA`. Those Sections need to be improved."
   ]
  },
  {
   "cell_type": "code",
   "execution_count": 28,
   "id": "e556a210",
   "metadata": {},
   "outputs": [
    {
     "data": {
      "image/png": "[encoded data removed]",
      "text/plain": [
       "<Figure size 800x600 with 1 Axes>"
      ]
     },
     "metadata": {},
     "output_type": "display_data"
    }
   ],
   "source": [
    "a = df['Programming Skills'].value_counts()\n",
    "plt.figure(figsize=(8,6))\n",
    "plt.bar(a.index, a.values, color=['skyblue', 'lightgreen', 'salmon'])\n",
    "plt.xlabel(\"Programming Skills\")\n",
    "plt.ylabel(\"Number of Students\")\n",
    "plt.title(\"Bar Chart of Programming Skills in Total Students\")\n",
    "plt.show()"
   ]
  },
  {
   "cell_type": "markdown",
   "id": "e4cb0364",
   "metadata": {},
   "source": [
    "This code counts the number of students in each Programming Skills category.\n",
    "It then plots a bar chart showing these counts, with different colors for each category.\n",
    "The chart includes labeled axes and a title \"Bar Chart of Programming Skills in Total Students\".\n",
    "\n",
    "The Students are very Poor when it comes to Programming. For those students who are poor in Programming Skills must attend a remedial Session conducted by the Institution."
   ]
  },
  {
   "cell_type": "code",
   "execution_count": 29,
   "id": "61c1c10a",
   "metadata": {},
   "outputs": [
    {
     "data": {
      "image/png": "[encoded data removed]",
      "text/plain": [
       "<Figure size 800x500 with 1 Axes>"
      ]
     },
     "metadata": {},
     "output_type": "display_data"
    }
   ],
   "source": [
    "plt.figure(figsize=(8,5))\n",
    "plt.hist(df[\"DV\"].astype(int), bins=15, color=\"orange\", edgecolor=\"black\")\n",
    "plt.title(\"Distribution of DV Marks\")\n",
    "plt.xlabel(\"Marks\")\n",
    "plt.ylabel(\"Frequency\")\n",
    "plt.show()\n"
   ]
  },
  {
   "cell_type": "markdown",
   "id": "a19d473b",
   "metadata": {},
   "source": [
    "This Pandas/Matplotlib code plots a histogram of `DV` marks from `df`, showing their distribution. The histogram has 15 bins, purple bars with black edges, and labeled axes. The plot is titled \"Distribution of DV Marks\"."
   ]
  },
  {
   "cell_type": "code",
   "execution_count": 30,
   "id": "78a9d576",
   "metadata": {},
   "outputs": [
    {
     "data": {
      "image/png": "[encoded data removed]",
      "text/plain": [
       "<Figure size 800x600 with 1 Axes>"
      ]
     },
     "metadata": {},
     "output_type": "display_data"
    }
   ],
   "source": [
    "counts = df[\"Grade\"].value_counts()\n",
    "plt.figure(figsize=(8,6))\n",
    "plt.barh(counts.index, counts.values, color=['gold', 'lightgreen', 'skyblue', 'salmon', 'violet', 'orange'])\n",
    "plt.xlabel(\"Number of Students\")\n",
    "plt.ylabel(\"Grades\")\n",
    "plt.title(\"Horizontal Bar Chart of Students by Grade\")\n",
    "plt.show()"
   ]
  },
  {
   "cell_type": "markdown",
   "id": "12206bfa",
   "metadata": {},
   "source": [
    "This code counts the number of students in each Grade category.\n",
    "It then plots a horizontal bar chart showing the distribution of students across grades.\n",
    "The chart includes labeled axes and a title \"Horizontal Bar Chart of Students by Grade\".\n",
    " `90+` of the students are `Failed` and `60+` of the Students have `Topped` the `Exams`."
   ]
  },
  {
   "cell_type": "code",
   "execution_count": 31,
   "id": "bb3857de",
   "metadata": {},
   "outputs": [
    {
     "data": {
      "image/png": "[encoded data removed]",
      "text/plain": [
       "<Figure size 800x800 with 1 Axes>"
      ]
     },
     "metadata": {},
     "output_type": "display_data"
    }
   ],
   "source": [
    "counts = df[\"DV Skills\"].value_counts()\n",
    "plt.figure( figsize = (8, 8))\n",
    "plt.pie(counts, labels=counts.index, autopct=\"%1.1f%%\")\n",
    "plt.title(\"Pie Chart of DV Skills percentage in each Section\")\n",
    "plt.show()"
   ]
  },
  {
   "cell_type": "markdown",
   "id": "86a3982e",
   "metadata": {},
   "source": [
    "This code counts the number of students in each DV Skills category.\n",
    "It then plots a pie chart showing the distribution of students across these skill levels with different colors.\n",
    "The chart includes labeled axes and a title \"Pie Chart of DV Skills in Total Students\".\n",
    "\n",
    "The Students are very Weak when it comes to Data Visualization over `41.0%` are `poor` in `DV Skills`. Those students Who are weak in DV Skills must attend a remedial Session conducted by the Department"
   ]
  },
  {
   "cell_type": "code",
   "execution_count": 32,
   "id": "80054088",
   "metadata": {},
   "outputs": [
    {
     "data": {
      "image/png": "[encoded data removed]",
      "text/plain": [
       "<Figure size 1000x600 with 1 Axes>"
      ]
     },
     "metadata": {},
     "output_type": "display_data"
    }
   ],
   "source": [
    "plt.figure(figsize=(10,6))\n",
    "sns.countplot(x='SECTION', hue='Programming Skills', data=df, palette=\"Set2\", dodge=True)\n",
    "plt.title(\"Distribution of Programming Skills across Sections\",fontsize=16,weight='bold',color='red')\n",
    "plt.xlabel(\"Section\",fontsize=14,color='green')\n",
    "plt.ylabel(\"Count\",fontsize=14,color='blue')\n",
    "plt.show()"
   ]
  },
  {
   "cell_type": "markdown",
   "id": "4fa7ed75",
   "metadata": {},
   "source": [
    "This code creates a grouped count plot to show the distribution of Programming Skills across different SECTIONS. It highlights how many students in each section fall into the \"Poor,\" \"Good,\" or \"Excellent\" categories, allowing for easy comparison.\n",
    "\n",
    "The GAMMA section stands out as needing improvement, as it has the largest number of students classified as \"Poor.\"\n",
    "\n",
    "Sections such as OMEGA, SIGMA, and GAMMA would benefit most from additional support or remedial programs, given their high numbers of \"Poor\" and \"Good\" performers."
   ]
  },
  {
   "cell_type": "code",
   "execution_count": 33,
   "id": "c83e3741",
   "metadata": {},
   "outputs": [
    {
     "data": {
      "image/png": "[encoded data removed]",
      "text/plain": [
       "<Figure size 800x500 with 1 Axes>"
      ]
     },
     "metadata": {},
     "output_type": "display_data"
    }
   ],
   "source": [
    "less_marks_count = (df[['DV', 'M-II', 'PP', 'BEEE', 'FL', 'FIMS']] < 5).sum()\n",
    "\n",
    "plt.figure(figsize=(8, 5))\n",
    "sns.lineplot(x=less_marks_count.index, y=less_marks_count.values, color='blue')\n",
    "\n",
    "plt.title(\"Count of Students Scoring Less Than 5 Marks by Question\")\n",
    "plt.xlabel(\"Questions\")\n",
    "plt.ylabel(\"Count\")\n",
    "plt.show()\n"
   ]
  },
  {
   "cell_type": "markdown",
   "id": "8307e8fb",
   "metadata": {},
   "source": [
    "This code computes the number of students scoring below 5 in each subject (DV, M-II, PP, BEEE, FL, FIMS) and visualizes the results as a line chart. The x-axis represents the subjects, the y-axis shows the count of students, and the chart is titled \"Count of Students Scoring Less Than 5 Marks by Question\".\n",
    "\n",
    "Among the subjects, M-II has the highest number of students with low scores, while FL has the fewest students scoring below 5."
   ]
  },
  {
   "cell_type": "code",
   "execution_count": 34,
   "id": "0f91ce4f",
   "metadata": {},
   "outputs": [
    {
     "data": {
      "image/png": "[encoded data removed]",
      "text/plain": [
       "<Figure size 1000x600 with 1 Axes>"
      ]
     },
     "metadata": {},
     "output_type": "display_data"
    }
   ],
   "source": [
    "plt.figure(figsize=(10,6))\n",
    "sns.countplot(x='SECTION', hue='DV Skills', data=df, palette=\"Set2\", dodge=True)\n",
    "plt.title(\"Distribution of DV Skills across Sections\", fontsize=16, weight='bold', color='red')\n",
    "plt.xlabel(\"Section\", fontsize=14, color='green')\n",
    "plt.ylabel(\"Count\", fontsize=14, color='blue')\n",
    "plt.show()\n"
   ]
  },
  {
   "cell_type": "markdown",
   "id": "850dd3ab",
   "metadata": {},
   "source": [
    "This code creates a grouped count plot to show the distribution of DV Skills across different SECTIONS. It highlights the number of students in each section classified as \"Poor,\" \"Good,\" or \"Excellent,\" allowing for easy comparison.\n",
    "\n",
    "The ALPHA section requires improvement, as it has the largest number of students in the \"Poor\" category.\n",
    "\n",
    "Sections like ALPHA, BETA, and GAMMA would benefit most from remedial programs, given their high numbers of \"Poor\" and \"Average\" performers."
   ]
  },
  {
   "cell_type": "code",
   "execution_count": 35,
   "id": "f1c1e861",
   "metadata": {},
   "outputs": [
    {
     "data": {
      "image/png": "[encoded data removed]",
      "text/plain": [
       "<Figure size 1000x600 with 1 Axes>"
      ]
     },
     "metadata": {},
     "output_type": "display_data"
    }
   ],
   "source": [
    "a = df[df[\"Grade\"]==\"A+\"]\n",
    "b = a[\"SECTION\"]\n",
    "\n",
    "plt.figure(figsize=(10,6))\n",
    "sns.countplot(x=b, hue=\"Programming Skills\", data=df, palette=\"Set2\", dodge=True)\n",
    "plt.title(\"Distribution of Programming Skills across Sections with Grade A+\",fontsize=16,weight='bold',color='red')\n",
    "plt.xlabel(\"Section\",fontsize=14,color='green')\n",
    "plt.ylabel(\"Count\",fontsize=14,color='blue')\n",
    "plt.show()"
   ]
  },
  {
   "cell_type": "markdown",
   "id": "1828d9ae",
   "metadata": {},
   "source": [
    "# `Conclusion` : -\n",
    "`GAMMA`, `SIGMA` and `OMEGA` `SECTIONS` needs more attention by the faculty over more Students have many Backlogs. So, the Management must focus on them to conduct some sessions so that they can clear the Backlogs quickly for the Students Who have more Backlogs from the `GAMMA` , `SIGMA` and `OMEGA` Sections."
   ]
  },
  {
   "cell_type": "code",
   "execution_count": null,
   "id": "d9b2ff25",
   "metadata": {},
   "outputs": [],
   "source": []
  }
 ],
 "metadata": {
  "kernelspec": {
   "display_name": "PYSPARK_KERNEL",
   "language": "python",
   "name": "pyspark-venv"
  },
  "language_info": {
   "codemirror_mode": {
    "name": "ipython",
    "version": 3
   },
   "file_extension": ".py",
   "mimetype": "text/x-python",
   "name": "python",
   "nbconvert_exporter": "python",
   "pygments_lexer": "ipython3",
   "version": "3.11.0"
  }
 },
 "nbformat": 4,
 "nbformat_minor": 5
}
